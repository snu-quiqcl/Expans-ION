{
 "cells": [
  {
   "cell_type": "code",
   "execution_count": 1,
   "metadata": {},
   "outputs": [],
   "source": [
    "import matplotlib.pyplot as plt\n",
    "import matplotlib as mpl\n",
    "from matplotlib import cm\n",
    "from src import *\n",
    "from utils import NatConst\n",
    "import gc"
   ]
  },
  {
   "cell_type": "code",
   "execution_count": 2,
   "metadata": {},
   "outputs": [
    {
     "name": "stdout",
     "output_type": "stream",
     "text": [
      "Base simulation array created: N_TLS = 2, N_MOD = 4, dimensions [4 4 4 4 4 4 4 4 2 2 2 2]\n",
      "[[1.0, 0.0, 0.0, 0.0], [1.0, 0.0, 0.0, 0.0], [1.0, 0.0, 0.0, 0.0], [1.0, 0.0, 0.0, 0.0]]\n"
     ]
    }
   ],
   "source": [
    "\"\"\" \n",
    "Define natural constants\n",
    "\"\"\"\n",
    "nat_const = NatConst()\n",
    "\n",
    "\"\"\"\n",
    "Define the ion chain \n",
    "\"\"\"\n",
    "N_ion = 2\n",
    "MOD_params_dim = [3, 3, 3, 3]   # n_1 to n_4\n",
    "MOD_params_sec = [1.8e6, 2e6, 2.2e6, 2.4e6]   # Hz\n",
    "\n",
    "# [axis 1 ion 1, axis 1 ion 2, axis 2 ion 1, axis 2 ion 2]\n",
    "Chain_theta = np.pi/4\n",
    "MOD_params_nm = [\n",
    "    [np.cos(Chain_theta), -np.cos(Chain_theta), np.sin(Chain_theta), -np.sin(Chain_theta)],\n",
    "    [np.cos(Chain_theta), np.cos(Chain_theta), np.sin(Chain_theta), np.sin(Chain_theta)],\n",
    "    [np.sin(Chain_theta), -np.sin(Chain_theta), np.cos(Chain_theta), -np.cos(Chain_theta)],\n",
    "    [np.sin(Chain_theta), np.sin(Chain_theta), np.cos(Chain_theta), np.cos(Chain_theta)]\n",
    "]\n",
    "\n",
    "MOD_params_gamma_heating = [0,0,0,0]\n",
    "MOD_params_gamma_dephasing = [0,0,0,0]\n",
    "MOD_params_bath_mean_n = [0,0,0,0]\n",
    "MOD_params_dict = {\"dim\": MOD_params_dim, \"secular\": MOD_params_sec, \"n-mode\": MOD_params_nm,\n",
    "                   \"heating\": MOD_params_gamma_dephasing, \"dephasing\": MOD_params_gamma_dephasing,\n",
    "                   \"mean_n\": MOD_params_bath_mean_n}\n",
    "\n",
    "'''\n",
    "N_ion = 1\n",
    "MOD_params_dim = [5, 5]   # n_21, n_22\n",
    "MOD_params_sec = [1.8e6, 2.1e6]   # Hz\n",
    "MOD_params_nm = [\n",
    "    [-0.7071067811865475, 0.7071067811865475], \n",
    "    [0.7071067811865475, 0.7071067811865475]\n",
    "]\n",
    "MOD_params_gamma_heating = [0,0]\n",
    "MOD_params_gamma_dephasing = [0,0]\n",
    "MOD_params_bath_mean_n = [0,0]\n",
    "MOD_params_dict = {\"dim\": MOD_params_dim, \"secular\": MOD_params_sec, \"n-mode\": MOD_params_nm,\n",
    "                   \"heating\": MOD_params_gamma_dephasing, \"dephasing\": MOD_params_gamma_dephasing,\n",
    "                   \"mean_n\": MOD_params_bath_mean_n}\n",
    "'''\n",
    "\n",
    "chain_instance = ChainAPI(N_ion, MOD_params_dict)\n",
    "\n",
    "\"\"\"\n",
    "Initialize the quantum state of the ion chain \n",
    "\"\"\"\n",
    "INIT_dist = \"thermal\"   # thermal, non-thermal\n",
    "INIT_params_mod = [[0, 0],  # n_11, n_12\n",
    "                   [0, 0]]  # n_21, n_22\n",
    "INIT_params_tls = [[1, 0], [1, 0]]   # tls_1, tls_2\n",
    "# INIT_params_mod = [[0.0],\n",
    "#                    [0.0]]\n",
    "# INIT_params_tls = [[1, 0]]   # tls_1, tls_2\n",
    "\n",
    "chain_instance.init_sim_array(INIT_dist, INIT_params_mod, INIT_params_tls)\n",
    "\n",
    "\"\"\" \n",
    "Define the external signals\n",
    "\"\"\"\n",
    "EXT_SIG_on_ion = dict()\n",
    "for i in range(N_ion):\n",
    "    EXT_SIG_on_ion[i] = ExtSigAPI(i)\n",
    "\n",
    "for i in range(N_ion):\n",
    "    EXT_SIG_on_ion[i].set_laser_params_config([355, \"counter\", np.pi/2])\n",
    "\n",
    "EXT_SIG_on_ion[0].set_laser_params_rabi([\"constant\", [100E3, 100E3]])\n",
    "EXT_SIG_on_ion[1].set_laser_params_rabi([\"constant\", [100E3, 100E3]])\n",
    "\n",
    "# MS interaction\n",
    "detun_val = 2.05e6\n",
    "EXT_SIG_on_ion[0].set_laser_params_detuning([\"constant\", [detun_val, -detun_val]])\n",
    "EXT_SIG_on_ion[1].set_laser_params_detuning([\"constant\", [detun_val, -detun_val]])"
   ]
  },
  {
   "cell_type": "code",
   "execution_count": 3,
   "metadata": {},
   "outputs": [
    {
     "name": "stdout",
     "output_type": "stream",
     "text": [
      "Use NVIDIA GeForce RTX 3090 Ti\n",
      "Set device to NVIDIA GeForce RTX 3090 Ti\n",
      "Construct K matrix\n",
      "Construct J matrix\n",
      "Start simulation\n"
     ]
    },
    {
     "data": {
      "application/vnd.jupyter.widget-view+json": {
       "model_id": "15089dd110174a989bc78e0275df3b58",
       "version_major": 2,
       "version_minor": 0
      },
      "text/plain": [
       "  0%|          | 0/3999 [00:00<?, ?it/s]"
      ]
     },
     "metadata": {},
     "output_type": "display_data"
    }
   ],
   "source": [
    "\"\"\"\n",
    "Instantiate the simulator \n",
    "\"\"\"\n",
    "simulator = RunSim()\n",
    "simulator.construct_ion_chain(chain_instance)\n",
    "simulator.set_external_signal(EXT_SIG_on_ion)\n",
    "\"\"\"\n",
    "Consturct matrices\n",
    "\"\"\"\n",
    "simulator.construct_propagator_K()\n",
    "simulator.construct_dissipator_J()\n",
    "\"\"\"\n",
    "Execute simulation\n",
    "\"\"\"\n",
    "simulator.execute_evolution(t_tot=500e-6, dt=25e-9, dev='cuda')"
   ]
  },
  {
   "cell_type": "code",
   "execution_count": 4,
   "metadata": {},
   "outputs": [
    {
     "name": "stdout",
     "output_type": "stream",
     "text": [
      "Set device to cpu\n",
      "Construct K matrix\n",
      "Construct J matrix\n",
      "Start simulation\n"
     ]
    },
    {
     "data": {
      "application/vnd.jupyter.widget-view+json": {
       "model_id": "8a653e69b20b4ca08c47560670313fe3",
       "version_major": 2,
       "version_minor": 0
      },
      "text/plain": [
       "  0%|          | 0/3999 [00:00<?, ?it/s]"
      ]
     },
     "metadata": {},
     "output_type": "display_data"
    },
    {
     "ename": "KeyboardInterrupt",
     "evalue": "",
     "output_type": "error",
     "traceback": [
      "\u001b[0;31m---------------------------------------------------------------------------\u001b[0m",
      "\u001b[0;31mKeyboardInterrupt\u001b[0m                         Traceback (most recent call last)",
      "Cell \u001b[0;32mIn[4], line 15\u001b[0m\n\u001b[1;32m     11\u001b[0m simulator\u001b[38;5;241m.\u001b[39mconstruct_dissipator_J()\n\u001b[1;32m     12\u001b[0m \u001b[38;5;124;03m\"\"\"\u001b[39;00m\n\u001b[1;32m     13\u001b[0m \u001b[38;5;124;03mExecute simulation\u001b[39;00m\n\u001b[1;32m     14\u001b[0m \u001b[38;5;124;03m\"\"\"\u001b[39;00m\n\u001b[0;32m---> 15\u001b[0m \u001b[43msimulator_cpu\u001b[49m\u001b[38;5;241;43m.\u001b[39;49m\u001b[43mexecute_evolution\u001b[49m\u001b[43m(\u001b[49m\u001b[43mt_tot\u001b[49m\u001b[38;5;241;43m=\u001b[39;49m\u001b[38;5;241;43m100e-6\u001b[39;49m\u001b[43m,\u001b[49m\u001b[43m \u001b[49m\u001b[43mdt\u001b[49m\u001b[38;5;241;43m=\u001b[39;49m\u001b[38;5;241;43m25e-9\u001b[39;49m\u001b[43m,\u001b[49m\u001b[43m \u001b[49m\u001b[43mdev\u001b[49m\u001b[38;5;241;43m=\u001b[39;49m\u001b[38;5;124;43m'\u001b[39;49m\u001b[38;5;124;43mcpu\u001b[39;49m\u001b[38;5;124;43m'\u001b[39;49m\u001b[43m)\u001b[49m\n",
      "File \u001b[0;32m~/LKM/IonSimulation/src.py:486\u001b[0m, in \u001b[0;36mRunSim.execute_evolution\u001b[0;34m(self, t_tot, dt, dev)\u001b[0m\n\u001b[1;32m    484\u001b[0m \u001b[38;5;66;03m# Compute k1\u001b[39;00m\n\u001b[1;32m    485\u001b[0m start_t \u001b[38;5;241m=\u001b[39m time\u001b[38;5;241m.\u001b[39mtime()\n\u001b[0;32m--> 486\u001b[0m k1, elapsed_K, elapsed_rho_shift, elapsed_J \u001b[38;5;241m=\u001b[39m \u001b[43msum_product\u001b[49m\u001b[43m(\u001b[49m\u001b[38;5;28;43mself\u001b[39;49m\u001b[38;5;241;43m.\u001b[39;49m\u001b[43mION_CHAIN\u001b[49m\u001b[38;5;241;43m.\u001b[39;49m\u001b[43mN_MOD\u001b[49m\u001b[43m,\u001b[49m\u001b[43m \u001b[49m\u001b[43mrho_prev\u001b[49m\u001b[43m,\u001b[49m\u001b[43m \u001b[49m\u001b[43mK_matrix\u001b[49m\u001b[43m,\u001b[49m\u001b[43m \u001b[49m\u001b[43mK_d_matrix\u001b[49m\u001b[43m,\u001b[49m\u001b[43m \u001b[49m\u001b[43mJmats_heat\u001b[49m\u001b[43m,\u001b[49m\u001b[43m \u001b[49m\u001b[43mJmats_dephase\u001b[49m\u001b[43m,\u001b[49m\u001b[43m \u001b[49m\n\u001b[1;32m    487\u001b[0m \u001b[43m                \u001b[49m\u001b[43mK_einsum_string\u001b[49m\u001b[43m,\u001b[49m\u001b[43m \u001b[49m\u001b[43mJ_einsum_string_list\u001b[49m\u001b[43m,\u001b[49m\n\u001b[1;32m    488\u001b[0m \u001b[43m                \u001b[49m\u001b[43mrho_shift_plus\u001b[49m\u001b[43m,\u001b[49m\u001b[43m \u001b[49m\u001b[43mrho_shift_minus\u001b[49m\u001b[43m)\u001b[49m\n\u001b[1;32m    489\u001b[0m elapsed_t \u001b[38;5;241m=\u001b[39m time\u001b[38;5;241m.\u001b[39mtime() \u001b[38;5;241m-\u001b[39m start_t\n\u001b[1;32m    490\u001b[0m sim_timeline[\u001b[38;5;124m'\u001b[39m\u001b[38;5;124msum product time\u001b[39m\u001b[38;5;124m'\u001b[39m]\u001b[38;5;241m.\u001b[39mappend(elapsed_t)\n",
      "File \u001b[0;32m~/LKM/IonSimulation/utils.py:23\u001b[0m, in \u001b[0;36msum_product\u001b[0;34m(N_MOD, rho_prev, K_mat, K_d_mat, J_mat_heating, J_mat_dephasing, K_einsum_str, J_einsum_list, rho_shift_plus_list, rho_shift_minus_list)\u001b[0m\n\u001b[1;32m     20\u001b[0m rho_shift_minus_tuples \u001b[38;5;241m=\u001b[39m rho_shift_minus_list\n\u001b[1;32m     22\u001b[0m start_t \u001b[38;5;241m=\u001b[39m time\u001b[38;5;241m.\u001b[39mtime()\n\u001b[0;32m---> 23\u001b[0m K_term \u001b[38;5;241m=\u001b[39m \u001b[43mtorch\u001b[49m\u001b[38;5;241;43m.\u001b[39;49m\u001b[43meinsum\u001b[49m\u001b[43m(\u001b[49m\u001b[43mK_einsum_string\u001b[49m\u001b[43m,\u001b[49m\u001b[43m \u001b[49m\u001b[43mK_mat\u001b[49m\u001b[43m,\u001b[49m\u001b[43m \u001b[49m\u001b[43mrho_prev\u001b[49m\u001b[43m)\u001b[49m\n\u001b[1;32m     24\u001b[0m K_d_term \u001b[38;5;241m=\u001b[39m torch\u001b[38;5;241m.\u001b[39meinsum(K_einsum_string, rho_prev, K_d_mat)\n\u001b[1;32m     25\u001b[0m elapsed_K \u001b[38;5;241m=\u001b[39m time\u001b[38;5;241m.\u001b[39mtime() \u001b[38;5;241m-\u001b[39m start_t\n",
      "File \u001b[0;32m~/anaconda3/envs/CHCY/lib/python3.10/site-packages/torch/functional.py:378\u001b[0m, in \u001b[0;36meinsum\u001b[0;34m(*args)\u001b[0m\n\u001b[1;32m    373\u001b[0m     \u001b[38;5;28;01mreturn\u001b[39;00m einsum(equation, \u001b[38;5;241m*\u001b[39m_operands)\n\u001b[1;32m    375\u001b[0m \u001b[38;5;28;01mif\u001b[39;00m \u001b[38;5;28mlen\u001b[39m(operands) \u001b[38;5;241m<\u001b[39m\u001b[38;5;241m=\u001b[39m \u001b[38;5;241m2\u001b[39m \u001b[38;5;129;01mor\u001b[39;00m \u001b[38;5;129;01mnot\u001b[39;00m opt_einsum\u001b[38;5;241m.\u001b[39menabled:\n\u001b[1;32m    376\u001b[0m     \u001b[38;5;66;03m# the path for contracting 0 or 1 time(s) is already optimized\u001b[39;00m\n\u001b[1;32m    377\u001b[0m     \u001b[38;5;66;03m# or the user has disabled using opt_einsum\u001b[39;00m\n\u001b[0;32m--> 378\u001b[0m     \u001b[38;5;28;01mreturn\u001b[39;00m \u001b[43m_VF\u001b[49m\u001b[38;5;241;43m.\u001b[39;49m\u001b[43meinsum\u001b[49m\u001b[43m(\u001b[49m\u001b[43mequation\u001b[49m\u001b[43m,\u001b[49m\u001b[43m \u001b[49m\u001b[43moperands\u001b[49m\u001b[43m)\u001b[49m  \u001b[38;5;66;03m# type: ignore[attr-defined]\u001b[39;00m\n\u001b[1;32m    380\u001b[0m path \u001b[38;5;241m=\u001b[39m \u001b[38;5;28;01mNone\u001b[39;00m\n\u001b[1;32m    381\u001b[0m \u001b[38;5;28;01mif\u001b[39;00m opt_einsum\u001b[38;5;241m.\u001b[39mis_available():\n",
      "\u001b[0;31mKeyboardInterrupt\u001b[0m: "
     ]
    }
   ],
   "source": [
    "\"\"\"\n",
    "Instantiate the simulator \n",
    "\"\"\"\n",
    "simulator_cpu = RunSim()\n",
    "simulator_cpu.construct_ion_chain(chain_instance)\n",
    "simulator_cpu.set_external_signal(EXT_SIG_on_ion)\n",
    "\"\"\"\n",
    "Consturct matrices\n",
    "\"\"\"\n",
    "simulator_cpu.construct_propagator_K()\n",
    "simulator.construct_dissipator_J()\n",
    "\"\"\"\n",
    "Execute simulation\n",
    "\"\"\"\n",
    "simulator_cpu.execute_evolution(t_tot=100e-6, dt=25e-9, dev='cpu')"
   ]
  },
  {
   "cell_type": "code",
   "execution_count": null,
   "metadata": {},
   "outputs": [
    {
     "data": {
      "image/png": "[encoded data removed]",
      "text/plain": [
       "<Figure size 640x480 with 1 Axes>"
      ]
     },
     "metadata": {},
     "output_type": "display_data"
    }
   ],
   "source": [
    "population = np.array([simulator.ION_CHAIN.partial_trace(simulator.sim_timeline['density'][i], [4,5])\n",
    "                       for i in range(len(simulator.sim_timeline['density']))])\n",
    "\n",
    "idx1, idx2 = 0, 0\n",
    "plt.plot(np.array(simulator.sim_timeline['time_step'])*1e6, population[:,idx1,idx1,idx2,idx2], label='00')\n",
    "idx1, idx2 = 0, 1\n",
    "plt.plot(np.array(simulator.sim_timeline['time_step'])*1e6, population[:,idx1,idx1,idx2,idx2] + population[:,idx2,idx2,idx1,idx1], label='01+10')\n",
    "idx1, idx2 = 1, 1\n",
    "plt.plot(np.array(simulator.sim_timeline['time_step'])*1e6, population[:,idx1,idx1,idx2,idx2], label='11')\n",
    "plt.legend(loc='best')\n",
    "plt.show()"
   ]
  },
  {
   "cell_type": "code",
   "execution_count": null,
   "metadata": {},
   "outputs": [],
   "source": []
  }
 ],
 "metadata": {
  "kernelspec": {
   "display_name": "Python 3",
   "language": "python",
   "name": "python3"
  },
  "language_info": {
   "codemirror_mode": {
    "name": "ipython",
    "version": 3
   },
   "file_extension": ".py",
   "mimetype": "text/x-python",
   "name": "python",
   "nbconvert_exporter": "python",
   "pygments_lexer": "ipython3",
   "version": "3.10.11"
  }
 },
 "nbformat": 4,
 "nbformat_minor": 2
}
